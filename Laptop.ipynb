{
 "cells": [
  {
   "cell_type": "code",
   "execution_count": 67,
   "metadata": {},
   "outputs": [],
   "source": [
    "import pandas as pd \n",
    "import numpy as np\n",
    "import matplotlib.pyplot as plt \n",
    "import seaborn as sns\n",
    "import plotly.express as px"
   ]
  },
  {
   "cell_type": "code",
   "execution_count": 68,
   "metadata": {},
   "outputs": [],
   "source": [
    "# import pandas as pd \n",
    "# import numpy as np\n",
    "# import matplotlib.pyplot as plt \n",
    "# import seaborn as sns\n",
    "# import plotly.express as px\n",
    "\n",
    "\n",
    "# pd.set_option(\"display.max_columns\",None)\n",
    "# pd.set_option(\"display.max_rows\",None)\n",
    "# df = pd.read_csv(\"C:\\\\Users\\\\moham\\\\Downloads\\\\laptop_price.csv\",encoding='latin1')\n",
    "\n",
    "\n",
    "\n",
    "# df.drop(columns=['laptop_ID','Weight','Product'],axis=1,inplace=True)   \n",
    "\n",
    "\n",
    "\n",
    "# #Removing company with less than 10 laptops\n",
    "# df = df[(df['Company'] == 'Dell') | (df['Company'] == 'Lenovo') | (df['Company'] == 'HP') | (df['Company'] == 'Asus') | (df['Company'] == 'Acer') | (df['Company'] == 'MSI') | (df['Company'] == 'Toshiba') | (df['Company'] == 'Apple')]\n",
    "# df['Company'].value_counts()\n",
    "\n",
    "\n",
    "\n",
    "# #Removing \"ScreenResolution\", 'values_counts' of which is less than 10\n",
    "# df = df[(df['ScreenResolution'] == 'Full HD 1920x1080') | (df['ScreenResolution'] == '1366x768') | (df['ScreenResolution'] == 'IPS Panel Full HD 1920x1080') | (df['ScreenResolution'] == 'IPS Panel Full HD / Touchscreen 1920x1080') | (df['ScreenResolution'] == 'Full HD / Touchscreen 1920x1080') | (df['ScreenResolution'] == '1600x900') | (df['ScreenResolution'] == 'Touchscreen 1366x768') | (df['ScreenResolution'] == 'Quad HD+ / Touchscreen 3200x1800') | (df['ScreenResolution'] == 'IPS Panel 4K Ultra HD 3840x2160') | (df['ScreenResolution'] == 'IPS Panel 4K Ultra HD / Touchscreen 3840x2160')]\n",
    "\n",
    "\n",
    "\n",
    "# df['Cpu'].value_counts()\n",
    "# df['CPU Company'] = df['Cpu'].str.split(' ').str[0]\n",
    "\n",
    "\n",
    "\n",
    "# def generation(value):\n",
    "#     if 'Intel' in value:\n",
    "#         return value.split(' ')[2]\n",
    "#     else:\n",
    "#         return value.split(' ')[1]\n",
    "    \n",
    "\n",
    "\n",
    "# df['Processor Generation/Series'] = df['Cpu'].apply(generation)\n",
    "\n",
    "\n",
    "\n",
    "# def converter(arg):\n",
    "#     import re\n",
    "#     pattern = r'\\d+'\n",
    "#     return int(re.findall(pattern, arg)[0])\n",
    "\n",
    "\n",
    "\n",
    "# df['RAM in GB'] = df['Ram'].apply(converter)\n",
    "# df['RAM in GB'].value_counts()\n",
    "\n",
    "\n",
    "\n",
    "# df['ROM'] = df['Memory'].apply(converter)\n",
    "# df['ROM'].value_counts()\n",
    "\n",
    "\n",
    "\n",
    "# def storage_drive(arg):\n",
    "#     if 'SSD' in arg:return 'SSD'\n",
    "#     elif 'HDD' in arg:return 'HDD'\n",
    "#     else:return 'Flash Storage'\n",
    "\n",
    "\n",
    "\n",
    "# df['Storage_Drive'] = df['Memory'].apply(storage_drive)\n",
    "# df['Storage_Drive'].value_counts()\n",
    "\n",
    "\n",
    "\n",
    "# def Byte(arg):\n",
    "#     if 'GB' in arg:return 'GB'\n",
    "#     elif 'TB' in arg:return 'TB'\n",
    "\n",
    "\n",
    "\n",
    "# df['Byte'] = df['Memory'].apply(Byte)\n",
    "# df['Byte'].value_counts()\n",
    "\n",
    "\n",
    "\n",
    "# #Changing \"Price_euros\" column values from euros to rupees\n",
    "# df['Price in Rupees'] = df['Price_euros'].apply(lambda x:x*90.62)\n",
    "\n",
    "\n",
    "\n",
    "# df.drop(columns=['Cpu','Ram','Memory','Gpu','Price_euros'],axis=1,inplace=True)\n",
    "\n",
    "\n",
    "\n",
    "# df.rename(columns={'Byte':'ROM Byte'},inplace=True)\n",
    "\n",
    "\n",
    "\n",
    "# df = df[df['OpSys']!='Windows 10 S']\n",
    "\n",
    "\n",
    "\n",
    "# df = df[df['OpSys']!='Mac OS X']\n",
    "\n",
    "\n",
    "\n",
    "# #Importing all necessary libraries first\n",
    "# from sklearn.model_selection import train_test_split\n",
    "# from sklearn.preprocessing   import MinMaxScaler,OneHotEncoder\n",
    "# from sklearn.pipeline        import Pipeline\n",
    "# from sklearn.compose         import ColumnTransformer\n",
    "# from sklearn.decomposition   import PCA\n",
    "# from sklearn.metrics         import r2_score,accuracy_score\n",
    "# from sklearn.linear_model    import LinearRegression\n",
    "# from sklearn.tree            import DecisionTreeRegressor\n",
    "# from sklearn.ensemble        import RandomForestRegressor,AdaBoostRegressor,VotingRegressor,BaggingRegressor\n",
    "\n",
    "\n",
    "\n",
    "# X_train,X_test,y_train,y_test = train_test_split(df.drop(columns=['Price in Rupees'],axis=1),df['Price in Rupees'],random_state=0,test_size=0.2)\n",
    "# print(f\"X_train shape : {X_train.shape}\\nX_test shape : {X_test.shape}\\ny_train shape : {y_train.shape}\\ny_test shape : {y_test.shape}\")\n",
    "\n",
    "\n",
    "\n",
    "# transformer = ColumnTransformer(\n",
    "#                                 [\n",
    "#                                     ('OneHotEncoding',OneHotEncoder(sparse_output=False,drop='first',handle_unknown='ignore'),['Company','TypeName','ScreenResolution','OpSys','CPU Company','Processor Generation/Series','Storage_Drive','ROM Byte']),  \n",
    "#                                     ('MinMaxScaling',MinMaxScaler(),['Inches'])    \n",
    "#                                 ],\n",
    "#                                 remainder='passthrough'\n",
    "#                                 )\n",
    "\n",
    "\n",
    "\n",
    "# pipe = Pipeline(steps=[('transforming',transformer),('Training',RandomForestRegressor())])\n",
    "\n",
    "\n",
    "\n",
    "# import warnings\n",
    "# warnings.filterwarnings('ignore')\n",
    "# pipe.fit(X_train,y_train)\n",
    "# ypred = pipe.predict(X_test)\n",
    "# print('accuracy score is : ',int(r2_score(ypred,y_test)*100),'%')"
   ]
  },
  {
   "cell_type": "code",
   "execution_count": 69,
   "metadata": {},
   "outputs": [],
   "source": [
    "pd.set_option(\"display.max_columns\",None)\n",
    "pd.set_option(\"display.max_rows\",None)\n",
    "df = pd.read_csv(\"C:\\\\Users\\\\moham\\\\Downloads\\\\laptop_price.csv\",encoding='latin1')"
   ]
  },
  {
   "cell_type": "code",
   "execution_count": 70,
   "metadata": {},
   "outputs": [
    {
     "data": {
      "text/plain": [
       "(1303, 13)"
      ]
     },
     "execution_count": 70,
     "metadata": {},
     "output_type": "execute_result"
    }
   ],
   "source": [
    "df.shape"
   ]
  },
  {
   "cell_type": "code",
   "execution_count": 71,
   "metadata": {},
   "outputs": [
    {
     "data": {
      "text/html": [
       "<div>\n",
       "<style scoped>\n",
       "    .dataframe tbody tr th:only-of-type {\n",
       "        vertical-align: middle;\n",
       "    }\n",
       "\n",
       "    .dataframe tbody tr th {\n",
       "        vertical-align: top;\n",
       "    }\n",
       "\n",
       "    .dataframe thead th {\n",
       "        text-align: right;\n",
       "    }\n",
       "</style>\n",
       "<table border=\"1\" class=\"dataframe\">\n",
       "  <thead>\n",
       "    <tr style=\"text-align: right;\">\n",
       "      <th></th>\n",
       "      <th>laptop_ID</th>\n",
       "      <th>Company</th>\n",
       "      <th>Product</th>\n",
       "      <th>TypeName</th>\n",
       "      <th>Inches</th>\n",
       "      <th>ScreenResolution</th>\n",
       "      <th>Cpu</th>\n",
       "      <th>Ram</th>\n",
       "      <th>Memory</th>\n",
       "      <th>Gpu</th>\n",
       "      <th>OpSys</th>\n",
       "      <th>Weight</th>\n",
       "      <th>Price_euros</th>\n",
       "    </tr>\n",
       "  </thead>\n",
       "  <tbody>\n",
       "    <tr>\n",
       "      <th>297</th>\n",
       "      <td>302</td>\n",
       "      <td>Dell</td>\n",
       "      <td>Precision 7720</td>\n",
       "      <td>Workstation</td>\n",
       "      <td>17.3</td>\n",
       "      <td>Full HD 1920x1080</td>\n",
       "      <td>Intel Core i7 7820HQ 2.9GHz</td>\n",
       "      <td>16GB</td>\n",
       "      <td>256GB SSD</td>\n",
       "      <td>Nvidia Quadro M1200</td>\n",
       "      <td>Windows 10</td>\n",
       "      <td>3.42kg</td>\n",
       "      <td>2884.86</td>\n",
       "    </tr>\n",
       "    <tr>\n",
       "      <th>640</th>\n",
       "      <td>648</td>\n",
       "      <td>Lenovo</td>\n",
       "      <td>Legion Y520-15IKBN</td>\n",
       "      <td>Gaming</td>\n",
       "      <td>15.6</td>\n",
       "      <td>IPS Panel Full HD 1920x1080</td>\n",
       "      <td>Intel Core i7 7700HQ 2.8GHz</td>\n",
       "      <td>8GB</td>\n",
       "      <td>128GB SSD +  1TB HDD</td>\n",
       "      <td>Nvidia GeForce GTX 1050M</td>\n",
       "      <td>Windows 10</td>\n",
       "      <td>2.5kg</td>\n",
       "      <td>1109.00</td>\n",
       "    </tr>\n",
       "    <tr>\n",
       "      <th>789</th>\n",
       "      <td>798</td>\n",
       "      <td>Dell</td>\n",
       "      <td>Inspiron 7567</td>\n",
       "      <td>Gaming</td>\n",
       "      <td>15.6</td>\n",
       "      <td>Full HD 1920x1080</td>\n",
       "      <td>Intel Core i5 7300HQ 2.5GHz</td>\n",
       "      <td>8GB</td>\n",
       "      <td>256GB SSD</td>\n",
       "      <td>Nvidia GeForce GTX 1050</td>\n",
       "      <td>Windows 10</td>\n",
       "      <td>2.62kg</td>\n",
       "      <td>985.00</td>\n",
       "    </tr>\n",
       "    <tr>\n",
       "      <th>34</th>\n",
       "      <td>35</td>\n",
       "      <td>Apple</td>\n",
       "      <td>MacBook Air</td>\n",
       "      <td>Ultrabook</td>\n",
       "      <td>13.3</td>\n",
       "      <td>1440x900</td>\n",
       "      <td>Intel Core i5 1.6GHz</td>\n",
       "      <td>8GB</td>\n",
       "      <td>256GB Flash Storage</td>\n",
       "      <td>Intel HD Graphics 6000</td>\n",
       "      <td>Mac OS X</td>\n",
       "      <td>1.35kg</td>\n",
       "      <td>998.00</td>\n",
       "    </tr>\n",
       "    <tr>\n",
       "      <th>749</th>\n",
       "      <td>758</td>\n",
       "      <td>HP</td>\n",
       "      <td>Zbook 17</td>\n",
       "      <td>Workstation</td>\n",
       "      <td>17.3</td>\n",
       "      <td>IPS Panel Full HD 1920x1080</td>\n",
       "      <td>Intel Xeon E3-1535M v5 2.9GHz</td>\n",
       "      <td>16GB</td>\n",
       "      <td>256GB SSD</td>\n",
       "      <td>Nvidia Quadro M2000M</td>\n",
       "      <td>Windows 7</td>\n",
       "      <td>3kg</td>\n",
       "      <td>4389.00</td>\n",
       "    </tr>\n",
       "  </tbody>\n",
       "</table>\n",
       "</div>"
      ],
      "text/plain": [
       "     laptop_ID Company             Product     TypeName  Inches  \\\n",
       "297        302    Dell      Precision 7720  Workstation    17.3   \n",
       "640        648  Lenovo  Legion Y520-15IKBN       Gaming    15.6   \n",
       "789        798    Dell       Inspiron 7567       Gaming    15.6   \n",
       "34          35   Apple         MacBook Air    Ultrabook    13.3   \n",
       "749        758      HP            Zbook 17  Workstation    17.3   \n",
       "\n",
       "                ScreenResolution                            Cpu   Ram  \\\n",
       "297            Full HD 1920x1080    Intel Core i7 7820HQ 2.9GHz  16GB   \n",
       "640  IPS Panel Full HD 1920x1080    Intel Core i7 7700HQ 2.8GHz   8GB   \n",
       "789            Full HD 1920x1080    Intel Core i5 7300HQ 2.5GHz   8GB   \n",
       "34                      1440x900           Intel Core i5 1.6GHz   8GB   \n",
       "749  IPS Panel Full HD 1920x1080  Intel Xeon E3-1535M v5 2.9GHz  16GB   \n",
       "\n",
       "                   Memory                       Gpu       OpSys  Weight  \\\n",
       "297             256GB SSD       Nvidia Quadro M1200  Windows 10  3.42kg   \n",
       "640  128GB SSD +  1TB HDD  Nvidia GeForce GTX 1050M  Windows 10   2.5kg   \n",
       "789             256GB SSD   Nvidia GeForce GTX 1050  Windows 10  2.62kg   \n",
       "34    256GB Flash Storage    Intel HD Graphics 6000    Mac OS X  1.35kg   \n",
       "749             256GB SSD      Nvidia Quadro M2000M   Windows 7     3kg   \n",
       "\n",
       "     Price_euros  \n",
       "297      2884.86  \n",
       "640      1109.00  \n",
       "789       985.00  \n",
       "34        998.00  \n",
       "749      4389.00  "
      ]
     },
     "execution_count": 71,
     "metadata": {},
     "output_type": "execute_result"
    }
   ],
   "source": [
    "df.sample(5)"
   ]
  },
  {
   "cell_type": "markdown",
   "metadata": {},
   "source": [
    "**The columns 'laptop_ID', 'Weight' and 'Product' are useless in prediction. So we'll drop all of them**"
   ]
  },
  {
   "cell_type": "code",
   "execution_count": 72,
   "metadata": {},
   "outputs": [],
   "source": [
    "df.drop(columns=['laptop_ID','Weight','Product'],axis=1,inplace=True)   "
   ]
  },
  {
   "cell_type": "code",
   "execution_count": 73,
   "metadata": {},
   "outputs": [
    {
     "data": {
      "text/plain": [
       "Company             0\n",
       "TypeName            0\n",
       "Inches              0\n",
       "ScreenResolution    0\n",
       "Cpu                 0\n",
       "Ram                 0\n",
       "Memory              0\n",
       "Gpu                 0\n",
       "OpSys               0\n",
       "Price_euros         0\n",
       "dtype: int64"
      ]
     },
     "execution_count": 73,
     "metadata": {},
     "output_type": "execute_result"
    }
   ],
   "source": [
    "df.isnull().sum()"
   ]
  },
  {
   "cell_type": "code",
   "execution_count": 74,
   "metadata": {},
   "outputs": [
    {
     "data": {
      "text/html": [
       "<div>\n",
       "<style scoped>\n",
       "    .dataframe tbody tr th:only-of-type {\n",
       "        vertical-align: middle;\n",
       "    }\n",
       "\n",
       "    .dataframe tbody tr th {\n",
       "        vertical-align: top;\n",
       "    }\n",
       "\n",
       "    .dataframe thead th {\n",
       "        text-align: right;\n",
       "    }\n",
       "</style>\n",
       "<table border=\"1\" class=\"dataframe\">\n",
       "  <thead>\n",
       "    <tr style=\"text-align: right;\">\n",
       "      <th></th>\n",
       "      <th>Inches</th>\n",
       "      <th>Price_euros</th>\n",
       "    </tr>\n",
       "  </thead>\n",
       "  <tbody>\n",
       "    <tr>\n",
       "      <th>count</th>\n",
       "      <td>1303.000000</td>\n",
       "      <td>1303.000000</td>\n",
       "    </tr>\n",
       "    <tr>\n",
       "      <th>mean</th>\n",
       "      <td>15.017191</td>\n",
       "      <td>1123.686992</td>\n",
       "    </tr>\n",
       "    <tr>\n",
       "      <th>std</th>\n",
       "      <td>1.426304</td>\n",
       "      <td>699.009043</td>\n",
       "    </tr>\n",
       "    <tr>\n",
       "      <th>min</th>\n",
       "      <td>10.100000</td>\n",
       "      <td>174.000000</td>\n",
       "    </tr>\n",
       "    <tr>\n",
       "      <th>25%</th>\n",
       "      <td>14.000000</td>\n",
       "      <td>599.000000</td>\n",
       "    </tr>\n",
       "    <tr>\n",
       "      <th>50%</th>\n",
       "      <td>15.600000</td>\n",
       "      <td>977.000000</td>\n",
       "    </tr>\n",
       "    <tr>\n",
       "      <th>75%</th>\n",
       "      <td>15.600000</td>\n",
       "      <td>1487.880000</td>\n",
       "    </tr>\n",
       "    <tr>\n",
       "      <th>max</th>\n",
       "      <td>18.400000</td>\n",
       "      <td>6099.000000</td>\n",
       "    </tr>\n",
       "  </tbody>\n",
       "</table>\n",
       "</div>"
      ],
      "text/plain": [
       "            Inches  Price_euros\n",
       "count  1303.000000  1303.000000\n",
       "mean     15.017191  1123.686992\n",
       "std       1.426304   699.009043\n",
       "min      10.100000   174.000000\n",
       "25%      14.000000   599.000000\n",
       "50%      15.600000   977.000000\n",
       "75%      15.600000  1487.880000\n",
       "max      18.400000  6099.000000"
      ]
     },
     "execution_count": 74,
     "metadata": {},
     "output_type": "execute_result"
    }
   ],
   "source": [
    "df.describe()"
   ]
  },
  {
   "cell_type": "code",
   "execution_count": 75,
   "metadata": {},
   "outputs": [
    {
     "name": "stdout",
     "output_type": "stream",
     "text": [
      "<class 'pandas.core.frame.DataFrame'>\n",
      "RangeIndex: 1303 entries, 0 to 1302\n",
      "Data columns (total 10 columns):\n",
      " #   Column            Non-Null Count  Dtype  \n",
      "---  ------            --------------  -----  \n",
      " 0   Company           1303 non-null   object \n",
      " 1   TypeName          1303 non-null   object \n",
      " 2   Inches            1303 non-null   float64\n",
      " 3   ScreenResolution  1303 non-null   object \n",
      " 4   Cpu               1303 non-null   object \n",
      " 5   Ram               1303 non-null   object \n",
      " 6   Memory            1303 non-null   object \n",
      " 7   Gpu               1303 non-null   object \n",
      " 8   OpSys             1303 non-null   object \n",
      " 9   Price_euros       1303 non-null   float64\n",
      "dtypes: float64(2), object(8)\n",
      "memory usage: 101.9+ KB\n"
     ]
    }
   ],
   "source": [
    "df.info()"
   ]
  },
  {
   "cell_type": "code",
   "execution_count": 76,
   "metadata": {},
   "outputs": [
    {
     "data": {
      "text/html": [
       "<div>\n",
       "<style scoped>\n",
       "    .dataframe tbody tr th:only-of-type {\n",
       "        vertical-align: middle;\n",
       "    }\n",
       "\n",
       "    .dataframe tbody tr th {\n",
       "        vertical-align: top;\n",
       "    }\n",
       "\n",
       "    .dataframe thead th {\n",
       "        text-align: right;\n",
       "    }\n",
       "</style>\n",
       "<table border=\"1\" class=\"dataframe\">\n",
       "  <thead>\n",
       "    <tr style=\"text-align: right;\">\n",
       "      <th></th>\n",
       "      <th>Company</th>\n",
       "      <th>TypeName</th>\n",
       "      <th>Inches</th>\n",
       "      <th>ScreenResolution</th>\n",
       "      <th>Cpu</th>\n",
       "      <th>Ram</th>\n",
       "      <th>Memory</th>\n",
       "      <th>Gpu</th>\n",
       "      <th>OpSys</th>\n",
       "      <th>Price_euros</th>\n",
       "    </tr>\n",
       "  </thead>\n",
       "  <tbody>\n",
       "    <tr>\n",
       "      <th>445</th>\n",
       "      <td>Dell</td>\n",
       "      <td>Notebook</td>\n",
       "      <td>14.0</td>\n",
       "      <td>Full HD 1920x1080</td>\n",
       "      <td>Intel Core i5 7440HQ 2.8GHz</td>\n",
       "      <td>8GB</td>\n",
       "      <td>256GB SSD</td>\n",
       "      <td>Nvidia GeForce 930MX</td>\n",
       "      <td>Windows 10</td>\n",
       "      <td>1179.0</td>\n",
       "    </tr>\n",
       "    <tr>\n",
       "      <th>712</th>\n",
       "      <td>Dell</td>\n",
       "      <td>Notebook</td>\n",
       "      <td>15.6</td>\n",
       "      <td>Full HD 1920x1080</td>\n",
       "      <td>Intel Core i5 7200U 2.5GHz</td>\n",
       "      <td>8GB</td>\n",
       "      <td>1TB HDD</td>\n",
       "      <td>Intel HD Graphics 620</td>\n",
       "      <td>Linux</td>\n",
       "      <td>726.0</td>\n",
       "    </tr>\n",
       "    <tr>\n",
       "      <th>1060</th>\n",
       "      <td>HP</td>\n",
       "      <td>Notebook</td>\n",
       "      <td>15.6</td>\n",
       "      <td>Full HD 1920x1080</td>\n",
       "      <td>Intel Core i7 7500U 2.7GHz</td>\n",
       "      <td>8GB</td>\n",
       "      <td>256GB SSD</td>\n",
       "      <td>Intel HD Graphics 620</td>\n",
       "      <td>Windows 10</td>\n",
       "      <td>1070.0</td>\n",
       "    </tr>\n",
       "  </tbody>\n",
       "</table>\n",
       "</div>"
      ],
      "text/plain": [
       "     Company  TypeName  Inches   ScreenResolution  \\\n",
       "445     Dell  Notebook    14.0  Full HD 1920x1080   \n",
       "712     Dell  Notebook    15.6  Full HD 1920x1080   \n",
       "1060      HP  Notebook    15.6  Full HD 1920x1080   \n",
       "\n",
       "                              Cpu  Ram     Memory                    Gpu  \\\n",
       "445   Intel Core i5 7440HQ 2.8GHz  8GB  256GB SSD   Nvidia GeForce 930MX   \n",
       "712    Intel Core i5 7200U 2.5GHz  8GB    1TB HDD  Intel HD Graphics 620   \n",
       "1060   Intel Core i7 7500U 2.7GHz  8GB  256GB SSD  Intel HD Graphics 620   \n",
       "\n",
       "           OpSys  Price_euros  \n",
       "445   Windows 10       1179.0  \n",
       "712        Linux        726.0  \n",
       "1060  Windows 10       1070.0  "
      ]
     },
     "execution_count": 76,
     "metadata": {},
     "output_type": "execute_result"
    }
   ],
   "source": [
    "df.sample(3)"
   ]
  },
  {
   "cell_type": "markdown",
   "metadata": {},
   "source": [
    "# ***Changes required in columns are given below :-***\n",
    "\n",
    "\n",
    "(a) Company - Remove the company with less than 10 laptops\n",
    "\n",
    "\n",
    "\n",
    "(b). ScreenResolution - Remove SR less than 10\n",
    "\n",
    "\n",
    "\n",
    "(c). Cpu - This column has also mixed values, we'll extract two values out of it.\n",
    "\n",
    "         1.(Cpu company) - This will contain company names, mainly \"Intel\" and \"AMD\"\n",
    "         \n",
    "         2.(Processor Generation) - This will contain generations of processor(i3,i5 etc.)\n",
    "         \n",
    "         \n",
    "         \n",
    "(d). RAM - This column also contains RAM values, which are categorical, so we'll convert it into numerical.\n",
    "\n",
    "\n",
    "\n",
    "(e). Memory - This column has numerical+categorical values, we'll extract 2 columns out of it.\n",
    "\n",
    "         1.(ROM) This will be numerical column which will contains the \"ROM\" value of a laptop\n",
    "         \n",
    "         2.(Storage Drive) This will be categorical column which has 2 values \"SSD\" and \"HDD\"\n",
    "         \n",
    "\n",
    "\n",
    "(f). Gpu - We'll drop this column, not looking so helpfull currently\n",
    "\n",
    "\n",
    "\n",
    "(g). Price_euros - This column conatains values in euros, we'll change column name to Price_rupees and change\n",
    "                   euros to it's corresponding rupees count\n"
   ]
  },
  {
   "cell_type": "code",
   "execution_count": 77,
   "metadata": {},
   "outputs": [
    {
     "data": {
      "text/plain": [
       "Company\n",
       "Dell       297\n",
       "Lenovo     297\n",
       "HP         274\n",
       "Asus       158\n",
       "Acer       103\n",
       "MSI         54\n",
       "Toshiba     48\n",
       "Apple       21\n",
       "Name: count, dtype: int64"
      ]
     },
     "execution_count": 77,
     "metadata": {},
     "output_type": "execute_result"
    }
   ],
   "source": [
    "#Removing company with less than 10 laptops\n",
    "df = df[(df['Company'] == 'Dell') | (df['Company'] == 'Lenovo') | (df['Company'] == 'HP') | (df['Company'] == 'Asus') | (df['Company'] == 'Acer') | (df['Company'] == 'MSI') | (df['Company'] == 'Toshiba') | (df['Company'] == 'Apple')]\n",
    "df['Company'].value_counts()"
   ]
  },
  {
   "cell_type": "code",
   "execution_count": 78,
   "metadata": {},
   "outputs": [
    {
     "data": {
      "text/plain": [
       "Company\n",
       "Dell       297\n",
       "Lenovo     297\n",
       "HP         274\n",
       "Asus       158\n",
       "Acer       103\n",
       "MSI         54\n",
       "Toshiba     48\n",
       "Apple       21\n",
       "Name: count, dtype: int64"
      ]
     },
     "execution_count": 78,
     "metadata": {},
     "output_type": "execute_result"
    }
   ],
   "source": [
    "df['Company'].value_counts()"
   ]
  },
  {
   "cell_type": "markdown",
   "metadata": {},
   "source": [
    "Change (a) done"
   ]
  },
  {
   "cell_type": "code",
   "execution_count": 79,
   "metadata": {},
   "outputs": [
    {
     "data": {
      "text/html": [
       "<div>\n",
       "<style scoped>\n",
       "    .dataframe tbody tr th:only-of-type {\n",
       "        vertical-align: middle;\n",
       "    }\n",
       "\n",
       "    .dataframe tbody tr th {\n",
       "        vertical-align: top;\n",
       "    }\n",
       "\n",
       "    .dataframe thead th {\n",
       "        text-align: right;\n",
       "    }\n",
       "</style>\n",
       "<table border=\"1\" class=\"dataframe\">\n",
       "  <thead>\n",
       "    <tr style=\"text-align: right;\">\n",
       "      <th></th>\n",
       "      <th>Company</th>\n",
       "      <th>TypeName</th>\n",
       "      <th>Inches</th>\n",
       "      <th>ScreenResolution</th>\n",
       "      <th>Cpu</th>\n",
       "      <th>Ram</th>\n",
       "      <th>Memory</th>\n",
       "      <th>Gpu</th>\n",
       "      <th>OpSys</th>\n",
       "      <th>Price_euros</th>\n",
       "    </tr>\n",
       "  </thead>\n",
       "  <tbody>\n",
       "    <tr>\n",
       "      <th>1210</th>\n",
       "      <td>Apple</td>\n",
       "      <td>Ultrabook</td>\n",
       "      <td>12.0</td>\n",
       "      <td>IPS Panel Retina Display 2304x1440</td>\n",
       "      <td>Intel Core M 1.2GHz</td>\n",
       "      <td>8GB</td>\n",
       "      <td>512GB Flash Storage</td>\n",
       "      <td>Intel HD Graphics 515</td>\n",
       "      <td>Mac OS X</td>\n",
       "      <td>1279.0</td>\n",
       "    </tr>\n",
       "  </tbody>\n",
       "</table>\n",
       "</div>"
      ],
      "text/plain": [
       "     Company   TypeName  Inches                    ScreenResolution  \\\n",
       "1210   Apple  Ultrabook    12.0  IPS Panel Retina Display 2304x1440   \n",
       "\n",
       "                      Cpu  Ram               Memory                    Gpu  \\\n",
       "1210  Intel Core M 1.2GHz  8GB  512GB Flash Storage  Intel HD Graphics 515   \n",
       "\n",
       "         OpSys  Price_euros  \n",
       "1210  Mac OS X       1279.0  "
      ]
     },
     "execution_count": 79,
     "metadata": {},
     "output_type": "execute_result"
    }
   ],
   "source": [
    "df.sample()"
   ]
  },
  {
   "cell_type": "code",
   "execution_count": 80,
   "metadata": {},
   "outputs": [],
   "source": [
    "\n",
    "#Removing \"ScreenResolution\", 'values_counts' of which is less than 10\n",
    "df = df[(df['ScreenResolution'] == 'Full HD 1920x1080') | (df['ScreenResolution'] == '1366x768') | (df['ScreenResolution'] == 'IPS Panel Full HD 1920x1080') | (df['ScreenResolution'] == 'IPS Panel Full HD / Touchscreen 1920x1080') | (df['ScreenResolution'] == 'Full HD / Touchscreen 1920x1080') | (df['ScreenResolution'] == '1600x900') | (df['ScreenResolution'] == 'Touchscreen 1366x768') | (df['ScreenResolution'] == 'Quad HD+ / Touchscreen 3200x1800') | (df['ScreenResolution'] == 'IPS Panel 4K Ultra HD 3840x2160') | (df['ScreenResolution'] == 'IPS Panel 4K Ultra HD / Touchscreen 3840x2160')]"
   ]
  },
  {
   "cell_type": "code",
   "execution_count": 81,
   "metadata": {},
   "outputs": [
    {
     "data": {
      "text/plain": [
       "ScreenResolution\n",
       "Full HD 1920x1080                                494\n",
       "1366x768                                         276\n",
       "IPS Panel Full HD 1920x1080                      221\n",
       "IPS Panel Full HD / Touchscreen 1920x1080         50\n",
       "Full HD / Touchscreen 1920x1080                   45\n",
       "1600x900                                          23\n",
       "Touchscreen 1366x768                              16\n",
       "Quad HD+ / Touchscreen 3200x1800                  15\n",
       "IPS Panel 4K Ultra HD 3840x2160                   12\n",
       "IPS Panel 4K Ultra HD / Touchscreen 3840x2160     10\n",
       "Name: count, dtype: int64"
      ]
     },
     "execution_count": 81,
     "metadata": {},
     "output_type": "execute_result"
    }
   ],
   "source": [
    "df['ScreenResolution'].value_counts()"
   ]
  },
  {
   "cell_type": "markdown",
   "metadata": {},
   "source": [
    "Change (b) done"
   ]
  },
  {
   "cell_type": "code",
   "execution_count": 82,
   "metadata": {},
   "outputs": [],
   "source": [
    "df['Cpu'].value_counts()\n",
    "df['CPU Company'] = df['Cpu'].str.split(' ').str[0]"
   ]
  },
  {
   "cell_type": "code",
   "execution_count": 83,
   "metadata": {},
   "outputs": [
    {
     "data": {
      "text/plain": [
       "CPU Company\n",
       "Intel    1100\n",
       "AMD        62\n",
       "Name: count, dtype: int64"
      ]
     },
     "execution_count": 83,
     "metadata": {},
     "output_type": "execute_result"
    }
   ],
   "source": [
    "df['CPU Company'].value_counts()"
   ]
  },
  {
   "cell_type": "code",
   "execution_count": 84,
   "metadata": {},
   "outputs": [],
   "source": [
    "def generation(value):\n",
    "    if 'Intel' in value:\n",
    "        return value.split(' ')[2]\n",
    "    else:\n",
    "        return value.split(' ')[1]"
   ]
  },
  {
   "cell_type": "code",
   "execution_count": 85,
   "metadata": {},
   "outputs": [],
   "source": [
    "df['Processor Generation/Series'] = df['Cpu'].apply(generation)"
   ]
  },
  {
   "cell_type": "code",
   "execution_count": 86,
   "metadata": {},
   "outputs": [
    {
     "data": {
      "text/plain": [
       "Processor Generation/Series\n",
       "i7            460\n",
       "i5            387\n",
       "i3            135\n",
       "Dual           74\n",
       "Quad           30\n",
       "A9-Series      17\n",
       "A6-Series      11\n",
       "M              10\n",
       "E-Series        9\n",
       "A12-Series      8\n",
       "A10-Series      6\n",
       "Ryzen           4\n",
       "A8-Series       4\n",
       "FX              2\n",
       "E3-1535M        2\n",
       "x5-Z8350        1\n",
       "E3-1505M        1\n",
       "A4-Series       1\n",
       "Name: count, dtype: int64"
      ]
     },
     "execution_count": 86,
     "metadata": {},
     "output_type": "execute_result"
    }
   ],
   "source": [
    "df['Processor Generation/Series'].value_counts()\n"
   ]
  },
  {
   "cell_type": "markdown",
   "metadata": {},
   "source": [
    "Change (c) done"
   ]
  },
  {
   "cell_type": "code",
   "execution_count": 87,
   "metadata": {},
   "outputs": [],
   "source": [
    "def converter(arg):\n",
    "    import re\n",
    "    pattern = r'\\d+'\n",
    "    return int(re.findall(pattern, arg)[0])"
   ]
  },
  {
   "cell_type": "code",
   "execution_count": 88,
   "metadata": {},
   "outputs": [
    {
     "data": {
      "text/plain": [
       "RAM in GB\n",
       "8     558\n",
       "4     347\n",
       "16    159\n",
       "6      39\n",
       "12     23\n",
       "2      20\n",
       "32     13\n",
       "24      2\n",
       "64      1\n",
       "Name: count, dtype: int64"
      ]
     },
     "execution_count": 88,
     "metadata": {},
     "output_type": "execute_result"
    }
   ],
   "source": [
    "df['RAM in GB'] = df['Ram'].apply(converter)\n",
    "df['RAM in GB'].value_counts()"
   ]
  },
  {
   "cell_type": "markdown",
   "metadata": {},
   "source": [
    "Change (d) done"
   ]
  },
  {
   "cell_type": "code",
   "execution_count": 89,
   "metadata": {},
   "outputs": [
    {
     "data": {
      "text/html": [
       "<div>\n",
       "<style scoped>\n",
       "    .dataframe tbody tr th:only-of-type {\n",
       "        vertical-align: middle;\n",
       "    }\n",
       "\n",
       "    .dataframe tbody tr th {\n",
       "        vertical-align: top;\n",
       "    }\n",
       "\n",
       "    .dataframe thead th {\n",
       "        text-align: right;\n",
       "    }\n",
       "</style>\n",
       "<table border=\"1\" class=\"dataframe\">\n",
       "  <thead>\n",
       "    <tr style=\"text-align: right;\">\n",
       "      <th></th>\n",
       "      <th>Company</th>\n",
       "      <th>TypeName</th>\n",
       "      <th>Inches</th>\n",
       "      <th>ScreenResolution</th>\n",
       "      <th>Cpu</th>\n",
       "      <th>Ram</th>\n",
       "      <th>Memory</th>\n",
       "      <th>Gpu</th>\n",
       "      <th>OpSys</th>\n",
       "      <th>Price_euros</th>\n",
       "      <th>CPU Company</th>\n",
       "      <th>Processor Generation/Series</th>\n",
       "      <th>RAM in GB</th>\n",
       "    </tr>\n",
       "  </thead>\n",
       "  <tbody>\n",
       "    <tr>\n",
       "      <th>65</th>\n",
       "      <td>Asus</td>\n",
       "      <td>Ultrabook</td>\n",
       "      <td>15.6</td>\n",
       "      <td>Full HD 1920x1080</td>\n",
       "      <td>Intel Core i7 7700HQ 2.8GHz</td>\n",
       "      <td>16GB</td>\n",
       "      <td>512GB SSD</td>\n",
       "      <td>Nvidia GeForce GTX 1050 Ti</td>\n",
       "      <td>Windows 10</td>\n",
       "      <td>1983.0</td>\n",
       "      <td>Intel</td>\n",
       "      <td>i7</td>\n",
       "      <td>16</td>\n",
       "    </tr>\n",
       "  </tbody>\n",
       "</table>\n",
       "</div>"
      ],
      "text/plain": [
       "   Company   TypeName  Inches   ScreenResolution                          Cpu  \\\n",
       "65    Asus  Ultrabook    15.6  Full HD 1920x1080  Intel Core i7 7700HQ 2.8GHz   \n",
       "\n",
       "     Ram     Memory                         Gpu       OpSys  Price_euros  \\\n",
       "65  16GB  512GB SSD  Nvidia GeForce GTX 1050 Ti  Windows 10       1983.0   \n",
       "\n",
       "   CPU Company Processor Generation/Series  RAM in GB  \n",
       "65       Intel                          i7         16  "
      ]
     },
     "execution_count": 89,
     "metadata": {},
     "output_type": "execute_result"
    }
   ],
   "source": [
    "df.sample()"
   ]
  },
  {
   "cell_type": "code",
   "execution_count": 90,
   "metadata": {},
   "outputs": [
    {
     "data": {
      "text/plain": [
       "ROM\n",
       "256    456\n",
       "1      238\n",
       "128    165\n",
       "500    131\n",
       "512    103\n",
       "32      28\n",
       "2       16\n",
       "64      10\n",
       "16       9\n",
       "180      4\n",
       "8        1\n",
       "508      1\n",
       "Name: count, dtype: int64"
      ]
     },
     "execution_count": 90,
     "metadata": {},
     "output_type": "execute_result"
    }
   ],
   "source": [
    "df['ROM'] = df['Memory'].apply(converter)\n",
    "df['ROM'].value_counts()"
   ]
  },
  {
   "cell_type": "code",
   "execution_count": 91,
   "metadata": {},
   "outputs": [],
   "source": [
    "def storage_drive(arg):\n",
    "    if 'SSD' in arg:return 'SSD'\n",
    "    elif 'HDD' in arg:return 'HDD'\n",
    "    else:return 'Flash Storage'"
   ]
  },
  {
   "cell_type": "code",
   "execution_count": 92,
   "metadata": {},
   "outputs": [
    {
     "data": {
      "text/plain": [
       "Storage_Drive\n",
       "SSD              737\n",
       "HDD              370\n",
       "Flash Storage     55\n",
       "Name: count, dtype: int64"
      ]
     },
     "execution_count": 92,
     "metadata": {},
     "output_type": "execute_result"
    }
   ],
   "source": [
    "df['Storage_Drive'] = df['Memory'].apply(storage_drive)\n",
    "df['Storage_Drive'].value_counts()"
   ]
  },
  {
   "cell_type": "code",
   "execution_count": 93,
   "metadata": {},
   "outputs": [],
   "source": [
    "def Byte(arg):\n",
    "    if 'GB' in arg:return 'GB'\n",
    "    elif 'TB' in arg:return 'TB'"
   ]
  },
  {
   "cell_type": "code",
   "execution_count": 94,
   "metadata": {},
   "outputs": [
    {
     "data": {
      "text/plain": [
       "Byte\n",
       "GB    908\n",
       "TB    254\n",
       "Name: count, dtype: int64"
      ]
     },
     "execution_count": 94,
     "metadata": {},
     "output_type": "execute_result"
    }
   ],
   "source": [
    "df['Byte'] = df['Memory'].apply(Byte)\n",
    "df['Byte'].value_counts()"
   ]
  },
  {
   "cell_type": "markdown",
   "metadata": {},
   "source": [
    "Change (e) done"
   ]
  },
  {
   "cell_type": "code",
   "execution_count": 95,
   "metadata": {},
   "outputs": [],
   "source": [
    "#Changing \"Price_euros\" column values from euros to rupees\n",
    "df['Price in Rupees'] = df['Price_euros'].apply(lambda x:x*90.62)"
   ]
  },
  {
   "cell_type": "code",
   "execution_count": 96,
   "metadata": {},
   "outputs": [
    {
     "data": {
      "text/plain": [
       "2      575.0\n",
       "5      400.0\n",
       "8     1495.0\n",
       "9      770.0\n",
       "10     393.9\n",
       "Name: Price_euros, dtype: float64"
      ]
     },
     "execution_count": 96,
     "metadata": {},
     "output_type": "execute_result"
    }
   ],
   "source": [
    "df['Price_euros'].head()"
   ]
  },
  {
   "cell_type": "code",
   "execution_count": 97,
   "metadata": {},
   "outputs": [
    {
     "data": {
      "text/plain": [
       "2      52106.500\n",
       "5      36248.000\n",
       "8     135476.900\n",
       "9      69777.400\n",
       "10     35695.218\n",
       "Name: Price_euros, dtype: float64"
      ]
     },
     "execution_count": 97,
     "metadata": {},
     "output_type": "execute_result"
    }
   ],
   "source": [
    "s = df['Price_euros'].apply(lambda x:x*90.62)\n",
    "s.head()"
   ]
  },
  {
   "cell_type": "markdown",
   "metadata": {},
   "source": [
    "Change (g) done"
   ]
  },
  {
   "cell_type": "code",
   "execution_count": 98,
   "metadata": {},
   "outputs": [
    {
     "data": {
      "text/html": [
       "<div>\n",
       "<style scoped>\n",
       "    .dataframe tbody tr th:only-of-type {\n",
       "        vertical-align: middle;\n",
       "    }\n",
       "\n",
       "    .dataframe tbody tr th {\n",
       "        vertical-align: top;\n",
       "    }\n",
       "\n",
       "    .dataframe thead th {\n",
       "        text-align: right;\n",
       "    }\n",
       "</style>\n",
       "<table border=\"1\" class=\"dataframe\">\n",
       "  <thead>\n",
       "    <tr style=\"text-align: right;\">\n",
       "      <th></th>\n",
       "      <th>Company</th>\n",
       "      <th>TypeName</th>\n",
       "      <th>Inches</th>\n",
       "      <th>ScreenResolution</th>\n",
       "      <th>Cpu</th>\n",
       "      <th>Ram</th>\n",
       "      <th>Memory</th>\n",
       "      <th>Gpu</th>\n",
       "      <th>OpSys</th>\n",
       "      <th>Price_euros</th>\n",
       "      <th>CPU Company</th>\n",
       "      <th>Processor Generation/Series</th>\n",
       "      <th>RAM in GB</th>\n",
       "      <th>ROM</th>\n",
       "      <th>Storage_Drive</th>\n",
       "      <th>Byte</th>\n",
       "      <th>Price in Rupees</th>\n",
       "    </tr>\n",
       "  </thead>\n",
       "  <tbody>\n",
       "    <tr>\n",
       "      <th>1243</th>\n",
       "      <td>Dell</td>\n",
       "      <td>2 in 1 Convertible</td>\n",
       "      <td>17.3</td>\n",
       "      <td>Full HD / Touchscreen 1920x1080</td>\n",
       "      <td>Intel Core i7 7500U 2.7GHz</td>\n",
       "      <td>16GB</td>\n",
       "      <td>512GB SSD</td>\n",
       "      <td>Nvidia GeForce 940MX</td>\n",
       "      <td>Windows 10</td>\n",
       "      <td>1799.0</td>\n",
       "      <td>Intel</td>\n",
       "      <td>i7</td>\n",
       "      <td>16</td>\n",
       "      <td>512</td>\n",
       "      <td>SSD</td>\n",
       "      <td>GB</td>\n",
       "      <td>163025.38</td>\n",
       "    </tr>\n",
       "  </tbody>\n",
       "</table>\n",
       "</div>"
      ],
      "text/plain": [
       "     Company            TypeName  Inches                 ScreenResolution  \\\n",
       "1243    Dell  2 in 1 Convertible    17.3  Full HD / Touchscreen 1920x1080   \n",
       "\n",
       "                             Cpu   Ram     Memory                   Gpu  \\\n",
       "1243  Intel Core i7 7500U 2.7GHz  16GB  512GB SSD  Nvidia GeForce 940MX   \n",
       "\n",
       "           OpSys  Price_euros CPU Company Processor Generation/Series  \\\n",
       "1243  Windows 10       1799.0       Intel                          i7   \n",
       "\n",
       "      RAM in GB  ROM Storage_Drive Byte  Price in Rupees  \n",
       "1243         16  512           SSD   GB        163025.38  "
      ]
     },
     "execution_count": 98,
     "metadata": {},
     "output_type": "execute_result"
    }
   ],
   "source": [
    "df.sample()"
   ]
  },
  {
   "cell_type": "code",
   "execution_count": 99,
   "metadata": {},
   "outputs": [],
   "source": [
    "df.drop(columns=['Cpu','Ram','Memory','Gpu','Price_euros'],axis=1,inplace=True)"
   ]
  },
  {
   "cell_type": "code",
   "execution_count": 100,
   "metadata": {},
   "outputs": [
    {
     "data": {
      "text/html": [
       "<div>\n",
       "<style scoped>\n",
       "    .dataframe tbody tr th:only-of-type {\n",
       "        vertical-align: middle;\n",
       "    }\n",
       "\n",
       "    .dataframe tbody tr th {\n",
       "        vertical-align: top;\n",
       "    }\n",
       "\n",
       "    .dataframe thead th {\n",
       "        text-align: right;\n",
       "    }\n",
       "</style>\n",
       "<table border=\"1\" class=\"dataframe\">\n",
       "  <thead>\n",
       "    <tr style=\"text-align: right;\">\n",
       "      <th></th>\n",
       "      <th>Company</th>\n",
       "      <th>TypeName</th>\n",
       "      <th>Inches</th>\n",
       "      <th>ScreenResolution</th>\n",
       "      <th>OpSys</th>\n",
       "      <th>CPU Company</th>\n",
       "      <th>Processor Generation/Series</th>\n",
       "      <th>RAM in GB</th>\n",
       "      <th>ROM</th>\n",
       "      <th>Storage_Drive</th>\n",
       "      <th>Byte</th>\n",
       "      <th>Price in Rupees</th>\n",
       "    </tr>\n",
       "  </thead>\n",
       "  <tbody>\n",
       "    <tr>\n",
       "      <th>1083</th>\n",
       "      <td>HP</td>\n",
       "      <td>Ultrabook</td>\n",
       "      <td>13.3</td>\n",
       "      <td>IPS Panel 4K Ultra HD 3840x2160</td>\n",
       "      <td>Windows 10</td>\n",
       "      <td>Intel</td>\n",
       "      <td>i7</td>\n",
       "      <td>16</td>\n",
       "      <td>512</td>\n",
       "      <td>SSD</td>\n",
       "      <td>GB</td>\n",
       "      <td>185680.38</td>\n",
       "    </tr>\n",
       "    <tr>\n",
       "      <th>468</th>\n",
       "      <td>HP</td>\n",
       "      <td>Gaming</td>\n",
       "      <td>17.3</td>\n",
       "      <td>IPS Panel Full HD 1920x1080</td>\n",
       "      <td>Windows 10</td>\n",
       "      <td>Intel</td>\n",
       "      <td>i7</td>\n",
       "      <td>12</td>\n",
       "      <td>1</td>\n",
       "      <td>HDD</td>\n",
       "      <td>TB</td>\n",
       "      <td>153963.38</td>\n",
       "    </tr>\n",
       "    <tr>\n",
       "      <th>561</th>\n",
       "      <td>Lenovo</td>\n",
       "      <td>Notebook</td>\n",
       "      <td>15.6</td>\n",
       "      <td>Full HD 1920x1080</td>\n",
       "      <td>Windows 10</td>\n",
       "      <td>Intel</td>\n",
       "      <td>i3</td>\n",
       "      <td>4</td>\n",
       "      <td>128</td>\n",
       "      <td>SSD</td>\n",
       "      <td>GB</td>\n",
       "      <td>57090.60</td>\n",
       "    </tr>\n",
       "    <tr>\n",
       "      <th>967</th>\n",
       "      <td>HP</td>\n",
       "      <td>Notebook</td>\n",
       "      <td>15.6</td>\n",
       "      <td>Full HD 1920x1080</td>\n",
       "      <td>Windows 10</td>\n",
       "      <td>Intel</td>\n",
       "      <td>i3</td>\n",
       "      <td>4</td>\n",
       "      <td>500</td>\n",
       "      <td>HDD</td>\n",
       "      <td>GB</td>\n",
       "      <td>62074.70</td>\n",
       "    </tr>\n",
       "    <tr>\n",
       "      <th>578</th>\n",
       "      <td>MSI</td>\n",
       "      <td>Gaming</td>\n",
       "      <td>17.3</td>\n",
       "      <td>Full HD 1920x1080</td>\n",
       "      <td>Windows 10</td>\n",
       "      <td>Intel</td>\n",
       "      <td>i7</td>\n",
       "      <td>16</td>\n",
       "      <td>512</td>\n",
       "      <td>SSD</td>\n",
       "      <td>GB</td>\n",
       "      <td>247301.98</td>\n",
       "    </tr>\n",
       "  </tbody>\n",
       "</table>\n",
       "</div>"
      ],
      "text/plain": [
       "     Company   TypeName  Inches                 ScreenResolution       OpSys  \\\n",
       "1083      HP  Ultrabook    13.3  IPS Panel 4K Ultra HD 3840x2160  Windows 10   \n",
       "468       HP     Gaming    17.3      IPS Panel Full HD 1920x1080  Windows 10   \n",
       "561   Lenovo   Notebook    15.6                Full HD 1920x1080  Windows 10   \n",
       "967       HP   Notebook    15.6                Full HD 1920x1080  Windows 10   \n",
       "578      MSI     Gaming    17.3                Full HD 1920x1080  Windows 10   \n",
       "\n",
       "     CPU Company Processor Generation/Series  RAM in GB  ROM Storage_Drive  \\\n",
       "1083       Intel                          i7         16  512           SSD   \n",
       "468        Intel                          i7         12    1           HDD   \n",
       "561        Intel                          i3          4  128           SSD   \n",
       "967        Intel                          i3          4  500           HDD   \n",
       "578        Intel                          i7         16  512           SSD   \n",
       "\n",
       "     Byte  Price in Rupees  \n",
       "1083   GB        185680.38  \n",
       "468    TB        153963.38  \n",
       "561    GB         57090.60  \n",
       "967    GB         62074.70  \n",
       "578    GB        247301.98  "
      ]
     },
     "execution_count": 100,
     "metadata": {},
     "output_type": "execute_result"
    }
   ],
   "source": [
    "df.sample(5)"
   ]
  },
  {
   "cell_type": "code",
   "execution_count": 101,
   "metadata": {},
   "outputs": [],
   "source": [
    "df.rename(columns={'Byte':'ROM Byte'},inplace=True)"
   ]
  },
  {
   "cell_type": "code",
   "execution_count": 102,
   "metadata": {},
   "outputs": [
    {
     "data": {
      "text/html": [
       "<div>\n",
       "<style scoped>\n",
       "    .dataframe tbody tr th:only-of-type {\n",
       "        vertical-align: middle;\n",
       "    }\n",
       "\n",
       "    .dataframe tbody tr th {\n",
       "        vertical-align: top;\n",
       "    }\n",
       "\n",
       "    .dataframe thead th {\n",
       "        text-align: right;\n",
       "    }\n",
       "</style>\n",
       "<table border=\"1\" class=\"dataframe\">\n",
       "  <thead>\n",
       "    <tr style=\"text-align: right;\">\n",
       "      <th></th>\n",
       "      <th>Company</th>\n",
       "      <th>TypeName</th>\n",
       "      <th>Inches</th>\n",
       "      <th>ScreenResolution</th>\n",
       "      <th>OpSys</th>\n",
       "      <th>CPU Company</th>\n",
       "      <th>Processor Generation/Series</th>\n",
       "      <th>RAM in GB</th>\n",
       "      <th>ROM</th>\n",
       "      <th>Storage_Drive</th>\n",
       "      <th>ROM Byte</th>\n",
       "      <th>Price in Rupees</th>\n",
       "    </tr>\n",
       "  </thead>\n",
       "  <tbody>\n",
       "    <tr>\n",
       "      <th>275</th>\n",
       "      <td>Dell</td>\n",
       "      <td>Notebook</td>\n",
       "      <td>15.6</td>\n",
       "      <td>1366x768</td>\n",
       "      <td>Windows 10</td>\n",
       "      <td>Intel</td>\n",
       "      <td>i7</td>\n",
       "      <td>12</td>\n",
       "      <td>1</td>\n",
       "      <td>HDD</td>\n",
       "      <td>TB</td>\n",
       "      <td>64618.4034</td>\n",
       "    </tr>\n",
       "    <tr>\n",
       "      <th>1104</th>\n",
       "      <td>Lenovo</td>\n",
       "      <td>Gaming</td>\n",
       "      <td>15.6</td>\n",
       "      <td>Full HD 1920x1080</td>\n",
       "      <td>Windows 10</td>\n",
       "      <td>Intel</td>\n",
       "      <td>i7</td>\n",
       "      <td>16</td>\n",
       "      <td>512</td>\n",
       "      <td>SSD</td>\n",
       "      <td>GB</td>\n",
       "      <td>108653.3800</td>\n",
       "    </tr>\n",
       "    <tr>\n",
       "      <th>568</th>\n",
       "      <td>Lenovo</td>\n",
       "      <td>Notebook</td>\n",
       "      <td>15.6</td>\n",
       "      <td>Full HD 1920x1080</td>\n",
       "      <td>Windows 10</td>\n",
       "      <td>Intel</td>\n",
       "      <td>Quad</td>\n",
       "      <td>4</td>\n",
       "      <td>500</td>\n",
       "      <td>HDD</td>\n",
       "      <td>GB</td>\n",
       "      <td>31173.2800</td>\n",
       "    </tr>\n",
       "    <tr>\n",
       "      <th>754</th>\n",
       "      <td>Asus</td>\n",
       "      <td>Notebook</td>\n",
       "      <td>15.6</td>\n",
       "      <td>1366x768</td>\n",
       "      <td>Windows 10</td>\n",
       "      <td>Intel</td>\n",
       "      <td>i7</td>\n",
       "      <td>4</td>\n",
       "      <td>256</td>\n",
       "      <td>SSD</td>\n",
       "      <td>GB</td>\n",
       "      <td>77017.9380</td>\n",
       "    </tr>\n",
       "    <tr>\n",
       "      <th>1122</th>\n",
       "      <td>HP</td>\n",
       "      <td>Notebook</td>\n",
       "      <td>14.0</td>\n",
       "      <td>Full HD 1920x1080</td>\n",
       "      <td>Windows 7</td>\n",
       "      <td>Intel</td>\n",
       "      <td>i5</td>\n",
       "      <td>8</td>\n",
       "      <td>256</td>\n",
       "      <td>SSD</td>\n",
       "      <td>GB</td>\n",
       "      <td>137108.0600</td>\n",
       "    </tr>\n",
       "  </tbody>\n",
       "</table>\n",
       "</div>"
      ],
      "text/plain": [
       "     Company  TypeName  Inches   ScreenResolution       OpSys CPU Company  \\\n",
       "275     Dell  Notebook    15.6           1366x768  Windows 10       Intel   \n",
       "1104  Lenovo    Gaming    15.6  Full HD 1920x1080  Windows 10       Intel   \n",
       "568   Lenovo  Notebook    15.6  Full HD 1920x1080  Windows 10       Intel   \n",
       "754     Asus  Notebook    15.6           1366x768  Windows 10       Intel   \n",
       "1122      HP  Notebook    14.0  Full HD 1920x1080   Windows 7       Intel   \n",
       "\n",
       "     Processor Generation/Series  RAM in GB  ROM Storage_Drive ROM Byte  \\\n",
       "275                           i7         12    1           HDD       TB   \n",
       "1104                          i7         16  512           SSD       GB   \n",
       "568                         Quad          4  500           HDD       GB   \n",
       "754                           i7          4  256           SSD       GB   \n",
       "1122                          i5          8  256           SSD       GB   \n",
       "\n",
       "      Price in Rupees  \n",
       "275        64618.4034  \n",
       "1104      108653.3800  \n",
       "568        31173.2800  \n",
       "754        77017.9380  \n",
       "1122      137108.0600  "
      ]
     },
     "execution_count": 102,
     "metadata": {},
     "output_type": "execute_result"
    }
   ],
   "source": [
    "df.sample(5)"
   ]
  },
  {
   "cell_type": "markdown",
   "metadata": {},
   "source": [
    "**All the changes are done, data is ready to move ahead**"
   ]
  },
  {
   "cell_type": "code",
   "execution_count": 103,
   "metadata": {},
   "outputs": [
    {
     "data": {
      "text/html": [
       "<div>\n",
       "<style scoped>\n",
       "    .dataframe tbody tr th:only-of-type {\n",
       "        vertical-align: middle;\n",
       "    }\n",
       "\n",
       "    .dataframe tbody tr th {\n",
       "        vertical-align: top;\n",
       "    }\n",
       "\n",
       "    .dataframe thead th {\n",
       "        text-align: right;\n",
       "    }\n",
       "</style>\n",
       "<table border=\"1\" class=\"dataframe\">\n",
       "  <thead>\n",
       "    <tr style=\"text-align: right;\">\n",
       "      <th></th>\n",
       "      <th>Inches</th>\n",
       "      <th>RAM in GB</th>\n",
       "      <th>ROM</th>\n",
       "      <th>Price in Rupees</th>\n",
       "    </tr>\n",
       "  </thead>\n",
       "  <tbody>\n",
       "    <tr>\n",
       "      <th>count</th>\n",
       "      <td>1162.000000</td>\n",
       "      <td>1162.000000</td>\n",
       "      <td>1162.000000</td>\n",
       "      <td>1162.000000</td>\n",
       "    </tr>\n",
       "    <tr>\n",
       "      <th>mean</th>\n",
       "      <td>15.155852</td>\n",
       "      <td>8.153184</td>\n",
       "      <td>223.130809</td>\n",
       "      <td>96987.078179</td>\n",
       "    </tr>\n",
       "    <tr>\n",
       "      <th>std</th>\n",
       "      <td>1.355731</td>\n",
       "      <td>4.917995</td>\n",
       "      <td>173.492434</td>\n",
       "      <td>58066.908733</td>\n",
       "    </tr>\n",
       "    <tr>\n",
       "      <th>min</th>\n",
       "      <td>11.300000</td>\n",
       "      <td>2.000000</td>\n",
       "      <td>1.000000</td>\n",
       "      <td>15767.880000</td>\n",
       "    </tr>\n",
       "    <tr>\n",
       "      <th>25%</th>\n",
       "      <td>14.000000</td>\n",
       "      <td>4.000000</td>\n",
       "      <td>32.000000</td>\n",
       "      <td>53433.176800</td>\n",
       "    </tr>\n",
       "    <tr>\n",
       "      <th>50%</th>\n",
       "      <td>15.600000</td>\n",
       "      <td>8.000000</td>\n",
       "      <td>256.000000</td>\n",
       "      <td>84316.472800</td>\n",
       "    </tr>\n",
       "    <tr>\n",
       "      <th>75%</th>\n",
       "      <td>15.600000</td>\n",
       "      <td>8.000000</td>\n",
       "      <td>256.000000</td>\n",
       "      <td>126369.590000</td>\n",
       "    </tr>\n",
       "    <tr>\n",
       "      <th>max</th>\n",
       "      <td>18.400000</td>\n",
       "      <td>64.000000</td>\n",
       "      <td>512.000000</td>\n",
       "      <td>443947.380000</td>\n",
       "    </tr>\n",
       "  </tbody>\n",
       "</table>\n",
       "</div>"
      ],
      "text/plain": [
       "            Inches    RAM in GB          ROM  Price in Rupees\n",
       "count  1162.000000  1162.000000  1162.000000      1162.000000\n",
       "mean     15.155852     8.153184   223.130809     96987.078179\n",
       "std       1.355731     4.917995   173.492434     58066.908733\n",
       "min      11.300000     2.000000     1.000000     15767.880000\n",
       "25%      14.000000     4.000000    32.000000     53433.176800\n",
       "50%      15.600000     8.000000   256.000000     84316.472800\n",
       "75%      15.600000     8.000000   256.000000    126369.590000\n",
       "max      18.400000    64.000000   512.000000    443947.380000"
      ]
     },
     "execution_count": 103,
     "metadata": {},
     "output_type": "execute_result"
    }
   ],
   "source": [
    "df.describe()"
   ]
  },
  {
   "cell_type": "code",
   "execution_count": 104,
   "metadata": {},
   "outputs": [
    {
     "data": {
      "text/plain": [
       "Company                        0\n",
       "TypeName                       0\n",
       "Inches                         0\n",
       "ScreenResolution               0\n",
       "OpSys                          0\n",
       "CPU Company                    0\n",
       "Processor Generation/Series    0\n",
       "RAM in GB                      0\n",
       "ROM                            0\n",
       "Storage_Drive                  0\n",
       "ROM Byte                       0\n",
       "Price in Rupees                0\n",
       "dtype: int64"
      ]
     },
     "execution_count": 104,
     "metadata": {},
     "output_type": "execute_result"
    }
   ],
   "source": [
    "df.isnull().sum()"
   ]
  },
  {
   "cell_type": "code",
   "execution_count": 105,
   "metadata": {},
   "outputs": [
    {
     "data": {
      "text/plain": [
       "(1162, 12)"
      ]
     },
     "execution_count": 105,
     "metadata": {},
     "output_type": "execute_result"
    }
   ],
   "source": [
    "df.shape"
   ]
  },
  {
   "cell_type": "code",
   "execution_count": 106,
   "metadata": {},
   "outputs": [
    {
     "name": "stdout",
     "output_type": "stream",
     "text": [
      "<class 'pandas.core.frame.DataFrame'>\n",
      "Index: 1162 entries, 2 to 1302\n",
      "Data columns (total 12 columns):\n",
      " #   Column                       Non-Null Count  Dtype  \n",
      "---  ------                       --------------  -----  \n",
      " 0   Company                      1162 non-null   object \n",
      " 1   TypeName                     1162 non-null   object \n",
      " 2   Inches                       1162 non-null   float64\n",
      " 3   ScreenResolution             1162 non-null   object \n",
      " 4   OpSys                        1162 non-null   object \n",
      " 5   CPU Company                  1162 non-null   object \n",
      " 6   Processor Generation/Series  1162 non-null   object \n",
      " 7   RAM in GB                    1162 non-null   int64  \n",
      " 8   ROM                          1162 non-null   int64  \n",
      " 9   Storage_Drive                1162 non-null   object \n",
      " 10  ROM Byte                     1162 non-null   object \n",
      " 11  Price in Rupees              1162 non-null   float64\n",
      "dtypes: float64(2), int64(2), object(8)\n",
      "memory usage: 118.0+ KB\n"
     ]
    }
   ],
   "source": [
    "df.info()"
   ]
  },
  {
   "cell_type": "code",
   "execution_count": 107,
   "metadata": {},
   "outputs": [
    {
     "data": {
      "text/plain": [
       "OpSys\n",
       "Windows 10      975\n",
       "No OS            63\n",
       "Linux            62\n",
       "Windows 7        42\n",
       "Chrome OS        17\n",
       "Windows 10 S      2\n",
       "Mac OS X          1\n",
       "Name: count, dtype: int64"
      ]
     },
     "execution_count": 107,
     "metadata": {},
     "output_type": "execute_result"
    }
   ],
   "source": [
    "df['OpSys'].value_counts()"
   ]
  },
  {
   "cell_type": "code",
   "execution_count": 108,
   "metadata": {},
   "outputs": [],
   "source": [
    "df = df[df['OpSys']!='Windows 10 S']"
   ]
  },
  {
   "cell_type": "code",
   "execution_count": 109,
   "metadata": {},
   "outputs": [],
   "source": [
    "df = df[df['OpSys']!='Mac OS X']"
   ]
  },
  {
   "cell_type": "code",
   "execution_count": 110,
   "metadata": {},
   "outputs": [
    {
     "data": {
      "text/plain": [
       "OpSys\n",
       "Windows 10    975\n",
       "No OS          63\n",
       "Linux          62\n",
       "Windows 7      42\n",
       "Chrome OS      17\n",
       "Name: count, dtype: int64"
      ]
     },
     "execution_count": 110,
     "metadata": {},
     "output_type": "execute_result"
    }
   ],
   "source": [
    "df['OpSys'].value_counts()"
   ]
  },
  {
   "cell_type": "code",
   "execution_count": 111,
   "metadata": {},
   "outputs": [
    {
     "data": {
      "text/plain": [
       "(1159, 12)"
      ]
     },
     "execution_count": 111,
     "metadata": {},
     "output_type": "execute_result"
    }
   ],
   "source": [
    "df.shape"
   ]
  },
  {
   "cell_type": "code",
   "execution_count": 112,
   "metadata": {},
   "outputs": [
    {
     "name": "stdout",
     "output_type": "stream",
     "text": [
      "<class 'pandas.core.frame.DataFrame'>\n",
      "Index: 1159 entries, 2 to 1302\n",
      "Data columns (total 12 columns):\n",
      " #   Column                       Non-Null Count  Dtype  \n",
      "---  ------                       --------------  -----  \n",
      " 0   Company                      1159 non-null   object \n",
      " 1   TypeName                     1159 non-null   object \n",
      " 2   Inches                       1159 non-null   float64\n",
      " 3   ScreenResolution             1159 non-null   object \n",
      " 4   OpSys                        1159 non-null   object \n",
      " 5   CPU Company                  1159 non-null   object \n",
      " 6   Processor Generation/Series  1159 non-null   object \n",
      " 7   RAM in GB                    1159 non-null   int64  \n",
      " 8   ROM                          1159 non-null   int64  \n",
      " 9   Storage_Drive                1159 non-null   object \n",
      " 10  ROM Byte                     1159 non-null   object \n",
      " 11  Price in Rupees              1159 non-null   float64\n",
      "dtypes: float64(2), int64(2), object(8)\n",
      "memory usage: 117.7+ KB\n"
     ]
    }
   ],
   "source": [
    "df.info()"
   ]
  },
  {
   "cell_type": "code",
   "execution_count": 113,
   "metadata": {},
   "outputs": [
    {
     "data": {
      "text/plain": [
       "<Axes: xlabel='Price in Rupees', ylabel='Density'>"
      ]
     },
     "execution_count": 113,
     "metadata": {},
     "output_type": "execute_result"
    },
    {
     "data": {
      "image/png": "[encoded data removed]",
      "text/plain": [
       "<Figure size 400x200 with 1 Axes>"
      ]
     },
     "metadata": {},
     "output_type": "display_data"
    }
   ],
   "source": [
    "plt.figure(figsize=(4,2))\n",
    "sns.kdeplot(df['Price in Rupees'])"
   ]
  },
  {
   "cell_type": "code",
   "execution_count": 114,
   "metadata": {},
   "outputs": [
    {
     "data": {
      "text/plain": [
       "<Axes: xlabel='Company', ylabel='count'>"
      ]
     },
     "execution_count": 114,
     "metadata": {},
     "output_type": "execute_result"
    },
    {
     "data": {
      "image/png": "[encoded data removed]",
      "text/plain": [
       "<Figure size 400x200 with 1 Axes>"
      ]
     },
     "metadata": {},
     "output_type": "display_data"
    }
   ],
   "source": [
    "plt.figure(figsize=(4,2))\n",
    "sns.countplot(data=df, x=df['Company'])"
   ]
  },
  {
   "cell_type": "code",
   "execution_count": 115,
   "metadata": {},
   "outputs": [
    {
     "data": {
      "text/plain": [
       "<Axes: xlabel='TypeName', ylabel='count'>"
      ]
     },
     "execution_count": 115,
     "metadata": {},
     "output_type": "execute_result"
    },
    {
     "data": {
      "image/png": "[encoded data removed]",
      "text/plain": [
       "<Figure size 1000x200 with 1 Axes>"
      ]
     },
     "metadata": {},
     "output_type": "display_data"
    }
   ],
   "source": [
    "plt.figure(figsize=(10,2))\n",
    "sns.countplot(data=df, x=df['TypeName'])"
   ]
  },
  {
   "cell_type": "code",
   "execution_count": 116,
   "metadata": {},
   "outputs": [
    {
     "data": {
      "image/png": "[encoded data removed]",
      "text/plain": [
       "<Figure size 1200x200 with 1 Axes>"
      ]
     },
     "metadata": {},
     "output_type": "display_data"
    }
   ],
   "source": [
    "plt.figure(figsize=(12,2))\n",
    "sns.countplot(data=df, x=df['ScreenResolution'])\n",
    "plt.xticks(rotation=90); plt.show()"
   ]
  },
  {
   "cell_type": "code",
   "execution_count": 117,
   "metadata": {},
   "outputs": [
    {
     "data": {
      "text/plain": [
       "<Axes: xlabel='OpSys', ylabel='count'>"
      ]
     },
     "execution_count": 117,
     "metadata": {},
     "output_type": "execute_result"
    },
    {
     "data": {
      "image/png": "[encoded data removed]",
      "text/plain": [
       "<Figure size 600x200 with 1 Axes>"
      ]
     },
     "metadata": {},
     "output_type": "display_data"
    }
   ],
   "source": [
    "plt.figure(figsize=(6,2))\n",
    "sns.countplot(data=df, x=df['OpSys'])"
   ]
  },
  {
   "cell_type": "code",
   "execution_count": 118,
   "metadata": {},
   "outputs": [
    {
     "data": {
      "text/plain": [
       "<Axes: xlabel='CPU Company', ylabel='count'>"
      ]
     },
     "execution_count": 118,
     "metadata": {},
     "output_type": "execute_result"
    },
    {
     "data": {
      "image/png": "[encoded data removed]",
      "text/plain": [
       "<Figure size 400x200 with 1 Axes>"
      ]
     },
     "metadata": {},
     "output_type": "display_data"
    }
   ],
   "source": [
    "plt.figure(figsize=(4,2))\n",
    "sns.countplot(data=df, x='CPU Company',hue='OpSys')"
   ]
  },
  {
   "cell_type": "code",
   "execution_count": 119,
   "metadata": {},
   "outputs": [
    {
     "data": {
      "image/png": "[encoded data removed]",
      "text/plain": [
       "<Figure size 500x200 with 1 Axes>"
      ]
     },
     "metadata": {},
     "output_type": "display_data"
    }
   ],
   "source": [
    "plt.figure(figsize=(5,2))\n",
    "sns.countplot(data=df, x=df['Processor Generation/Series'])\n",
    "plt.xticks(rotation=90); plt.show()"
   ]
  },
  {
   "cell_type": "code",
   "execution_count": 120,
   "metadata": {},
   "outputs": [
    {
     "data": {
      "text/plain": [
       "Index(['Company', 'TypeName', 'Inches', 'ScreenResolution', 'OpSys',\n",
       "       'CPU Company', 'Processor Generation/Series', 'RAM in GB', 'ROM',\n",
       "       'Storage_Drive', 'ROM Byte', 'Price in Rupees'],\n",
       "      dtype='object')"
      ]
     },
     "execution_count": 120,
     "metadata": {},
     "output_type": "execute_result"
    }
   ],
   "source": [
    "df.columns"
   ]
  },
  {
   "cell_type": "markdown",
   "metadata": {},
   "source": [
    "# **Now we'll go for Machine Learning steps**\n"
   ]
  },
  {
   "cell_type": "code",
   "execution_count": 121,
   "metadata": {},
   "outputs": [],
   "source": [
    "#Importing all necessary libraries first\n",
    "from sklearn.model_selection import train_test_split\n",
    "from sklearn.preprocessing   import MinMaxScaler,OneHotEncoder\n",
    "from sklearn.pipeline        import Pipeline\n",
    "from sklearn.compose         import ColumnTransformer\n",
    "from sklearn.decomposition   import PCA\n",
    "from sklearn.metrics         import r2_score,accuracy_score\n",
    "from sklearn.linear_model    import LinearRegression\n",
    "from sklearn.tree            import DecisionTreeRegressor\n",
    "from sklearn.ensemble        import RandomForestRegressor,AdaBoostRegressor,VotingRegressor,BaggingRegressor"
   ]
  },
  {
   "cell_type": "code",
   "execution_count": 122,
   "metadata": {},
   "outputs": [
    {
     "name": "stdout",
     "output_type": "stream",
     "text": [
      "X_train shape : (927, 11)\n",
      "X_test shape : (232, 11)\n",
      "y_train shape : (927,)\n",
      "y_test shape : (232,)\n"
     ]
    }
   ],
   "source": [
    "X_train,X_test,y_train,y_test = train_test_split(df.drop(columns=['Price in Rupees'],axis=1),df['Price in Rupees'],random_state=0,test_size=0.2)\n",
    "print(f\"X_train shape : {X_train.shape}\\nX_test shape : {X_test.shape}\\ny_train shape : {y_train.shape}\\ny_test shape : {y_test.shape}\")"
   ]
  },
  {
   "cell_type": "code",
   "execution_count": 123,
   "metadata": {},
   "outputs": [],
   "source": [
    "# df.shape"
   ]
  },
  {
   "cell_type": "code",
   "execution_count": 124,
   "metadata": {},
   "outputs": [],
   "source": [
    "# df.sample()"
   ]
  },
  {
   "cell_type": "code",
   "execution_count": 125,
   "metadata": {},
   "outputs": [],
   "source": [
    "transformer = ColumnTransformer(\n",
    "                                [\n",
    "                                    ('OneHotEncoding',OneHotEncoder(sparse_output=False,drop='first',handle_unknown='ignore'),['Company','TypeName','ScreenResolution','OpSys','CPU Company','Processor Generation/Series','Storage_Drive','ROM Byte']),  \n",
    "                                    ('MinMaxScaling',MinMaxScaler(),['Inches'])    \n",
    "                                ],\n",
    "                                remainder='passthrough'\n",
    "                                )"
   ]
  },
  {
   "cell_type": "code",
   "execution_count": 126,
   "metadata": {},
   "outputs": [],
   "source": [
    "pipe = Pipeline(steps=[('transforming',transformer),('Training',RandomForestRegressor())])"
   ]
  },
  {
   "cell_type": "code",
   "execution_count": 127,
   "metadata": {},
   "outputs": [
    {
     "name": "stdout",
     "output_type": "stream",
     "text": [
      "accuracy score is :  76 %\n"
     ]
    }
   ],
   "source": [
    "import warnings\n",
    "warnings.filterwarnings('ignore')\n",
    "pipe.fit(X_train,y_train)\n",
    "ypred = pipe.predict(X_test)\n",
    "print('accuracy score is : ',int(r2_score(ypred,y_test)*100),'%')"
   ]
  },
  {
   "cell_type": "code",
   "execution_count": 128,
   "metadata": {},
   "outputs": [],
   "source": [
    "# import pickle\n",
    "# pickle.dump(pipe,open('laptop.pkl','wb'))"
   ]
  }
 ],
 "metadata": {
  "kernelspec": {
   "display_name": "Python 3",
   "language": "python",
   "name": "python3"
  },
  "language_info": {
   "codemirror_mode": {
    "name": "ipython",
    "version": 3
   },
   "file_extension": ".py",
   "mimetype": "text/x-python",
   "name": "python",
   "nbconvert_exporter": "python",
   "pygments_lexer": "ipython3",
   "version": "3.12.4"
  }
 },
 "nbformat": 4,
 "nbformat_minor": 2
}
